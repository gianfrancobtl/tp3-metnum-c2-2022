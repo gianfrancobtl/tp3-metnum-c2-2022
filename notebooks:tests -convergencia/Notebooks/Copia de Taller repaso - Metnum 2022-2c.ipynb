{
 "cells": [
  {
   "cell_type": "markdown",
   "metadata": {
    "id": "M4eqA5saeAjo"
   },
   "source": [
    "#Taller de repaso \n",
    "## Métodos Numéricos, DC, FCEN, UBA\n",
    "### 2do cuatrimestre 2022\n",
    "\n",
    "------\n",
    "\n",
    "El objetivo del taller es repasar los temas que entran en el segundo parcial, con el interés particular del labo en métodos iterativos (tema central al tp3).\n",
    "\n",
    "- Se deberán resolver los siguientes ejercicios y responder las preguntas justificando adecuadamente.\n",
    "- El taller está pensado para resolverse en grupos de 2 o 3 personas.\n",
    "- Sugerimos ir consultando cada punto con los docentes a modo de checkpoint.\n"
   ]
  },
  {
   "cell_type": "code",
   "execution_count": 2,
   "metadata": {
    "executionInfo": {
     "elapsed": 257,
     "status": "ok",
     "timestamp": 1668201599118,
     "user": {
      "displayName": "Gianfranco Battolla",
      "userId": "06757248181293084636"
     },
     "user_tz": 180
    },
    "id": "NEmiFeOCNggY"
   },
   "outputs": [],
   "source": [
    "import numpy as np\n",
    "from numpy.linalg import eig\n",
    "import matplotlib.pyplot as plt"
   ]
  },
  {
   "cell_type": "markdown",
   "metadata": {
    "id": "owkr_s9YeAkd"
   },
   "source": [
    "## Ejercicio 1\n",
    "\n",
    "\n",
    "Dado el siguiente sistema lineal sobredeterminado:\n",
    "\n",
    "$$\n",
    "A x = b \\\\\n",
    "\\begin{pmatrix}\n",
    "1  & 0  & 0 \\\\\n",
    "0  & 1  & 0 \\\\\n",
    "0  & 0  & 1 \\\\\n",
    "-1 & 1  & 0 \\\\\n",
    "0  & -1 & 0 \\\\\n",
    "-1 & 0  & 1\n",
    "\\end{pmatrix}\n",
    "%\n",
    "\\begin{pmatrix}\n",
    "x_a \\\\\n",
    "x_b \\\\\n",
    "x_c\n",
    "\\end{pmatrix}\n",
    "=\n",
    "\\begin{pmatrix}\n",
    "1 \\\\ \n",
    "2 \\\\ \n",
    "3 \\\\\n",
    "1 \\\\\n",
    "2 \\\\\n",
    "1\n",
    "\\end{pmatrix}\n",
    "$$\n",
    "\n",
    "- Hallar $x^*$ mediante cuadrados mínimos, utilizando ecuaciones normales. ¿Bajo que condiciones esta solución es única?\n",
    "\n",
    "\n",
    "- Probar que el residuo, $r = b-Ax$ resulta ortogonal a $Im(A)$ si $x = x^*$ es la solución de cuadrados mínimos. Luego verificar para la matriz A en código.\n",
    "\n",
    "\n",
    "\n",
    "__Sugerencia:__ Utilizar la función [solve](https://docs.scipy.org/doc/numpy/reference/generated/numpy.linalg.solve.html) de Numpy para encontrar la solución de un sistema determinado.\n"
   ]
  },
  {
   "cell_type": "code",
   "execution_count": null,
   "metadata": {
    "colab": {
     "base_uri": "https://localhost:8080/"
    },
    "executionInfo": {
     "elapsed": 9,
     "status": "ok",
     "timestamp": 1668110361648,
     "user": {
      "displayName": "Gianfranco Battolla",
      "userId": "06757248181293084636"
     },
     "user_tz": 180
    },
    "id": "JR1qOafcj4LW",
    "outputId": "51c0ba10-b9d1-41ae-e868-07924d49585f"
   },
   "outputs": [
    {
     "data": {
      "text/plain": [
       "array([[-1,  0,  0],\n",
       "       [ 0, -1,  0],\n",
       "       [ 0,  0, -1],\n",
       "       [ 1, -1,  0],\n",
       "       [ 0,  1,  0],\n",
       "       [ 1,  0, -1]])"
      ]
     },
     "execution_count": 2,
     "metadata": {},
     "output_type": "execute_result"
    }
   ],
   "source": [
    "A = np.array([[1,     0,    0],\n",
    "              [0,     1,    0],\n",
    "              [0,     0,    1],\n",
    "              [-1,    1,    0],\n",
    "              [0,-    1,    0],\n",
    "              [-1,    0,    1]])\n",
    "\n",
    "b = np.array([1, 2, 3, 1, 2, 1])\n",
    "\n",
    "x = np.linalg.solve(A.T @ A, A.T @ b)\n",
    "r = b - A@x\n",
    "\n",
    "A.T @ r\n",
    "-np.tril(A)\n",
    "# Im(A) \"suma directa\" Nu(A.t) \n",
    "# r = b - Ax*\n",
    "# b = b1 + b2, donde b1 es parte de la ortogonal a la imagen y b2 es parte de la imagen\n",
    "# r = (b1 + b2) - A x*. Ax* es igual a b1 (por se rproy ortogonal, la sol. de cml).\n",
    "# r = b2\n",
    "# r pertenece a Nu(A.T) pues r = b2"
   ]
  },
  {
   "cell_type": "markdown",
   "metadata": {
    "id": "bY0ZC6K0Qj3X"
   },
   "source": [
    "## Ejercicio 2\n",
    "\n",
    "\n",
    "Dado el siguiente método iterativo para la resolución de sistemas lineales $Ax=b$:\n",
    "\n",
    "<center> $x^{k} = (I-A) x^{k-1} + b$ </center>\n",
    "\n",
    "\n",
    "- Demostrar que si el método converge, entonces lo hace a una solución del sistema $Ax=b$.\n",
    "\n",
    "- Demostrar que si la matriz $A$ es estrictamente diagonal dominante por filas, y los elementos de la diagonal son iguales a $1$, entonces el método converge\n",
    "\n",
    "- Dada una matriz $A$ inversible estrictamente diagonal dominante por filas, y usando la propiedad demostrada en el ejercicio anterior, proponer una modificación al método para que este converja."
   ]
  },
  {
   "cell_type": "markdown",
   "metadata": {
    "id": "x7fDfDZi72g7"
   },
   "source": []
  },
  {
   "cell_type": "markdown",
   "metadata": {
    "id": "ZTExqkrVeAk8"
   },
   "source": [
    "## Ejercicio 3\n",
    "\n",
    "- Completar los métodos de Jacobi y Gauss-Seidel. Tener en cuenta que las funciones también deben devolver el vector de errores que resulta de comparar la solución aproximada de una iteración contra la solución conocida $x\\_direct$ obtenida mediante la  función [solve](https://docs.scipy.org/doc/numpy/reference/generated/numpy.linalg.solve.html) de Numpy.\n",
    "\n",
    "- Probar los métodos con la matriz A (definida en el código), graficar y  analizar el error de la solución. ¿Converge a una solución?¿Cómo podría justificarse lo anterior analizando la matriz A?\n",
    "\n",
    "- En caso de converger, ¿cuál método lo hace más rápido? ¿Por qué?\n",
    "\n"
   ]
  },
  {
   "cell_type": "code",
   "execution_count": 4,
   "metadata": {
    "executionInfo": {
     "elapsed": 4,
     "status": "ok",
     "timestamp": 1668201606851,
     "user": {
      "displayName": "Gianfranco Battolla",
      "userId": "06757248181293084636"
     },
     "user_tz": 180
    },
    "id": "AeByES9teAlA"
   },
   "outputs": [],
   "source": [
    "def jacobi(A,b,reps,x_ini):\n",
    "    # Matrices para los metodos iterativos\n",
    "    D = np.diag(np.diag(A))\n",
    "    L = -np.tril(A) + np.diag(np.diag(A))\n",
    "    U = -np.triu(A) + np.diag(np.diag(A))\n",
    "    \n",
    "    T = np.linalg.inv(D) @ (L + U)\n",
    "    c = np.linalg.inv(D) @ b\n",
    "    print(np.linalg.inv(D))\n",
    "    print(L)\n",
    "    print(U)\n",
    "    print(T)\n",
    "    xi = x_ini\n",
    "    error = []\n",
    "    for i in range(reps):\n",
    "        xi = T @ xi + c\n",
    "        #error.append(np.linalg.norm(xi - x_direct))\n",
    "    return xi, error"
   ]
  },
  {
   "cell_type": "code",
   "execution_count": 14,
   "metadata": {
    "executionInfo": {
     "elapsed": 4,
     "status": "ok",
     "timestamp": 1668201763766,
     "user": {
      "displayName": "Gianfranco Battolla",
      "userId": "06757248181293084636"
     },
     "user_tz": 180
    },
    "id": "H-7JdxsEeAlM"
   },
   "outputs": [],
   "source": [
    "def gauss_seidel(A,b,reps,x_ini):\n",
    "    # Matrices para los metodos iterativos\n",
    "    D = np.diag(np.diag(A))\n",
    "    L = -np.tril(A) + np.diag(np.diag(A))\n",
    "    U = -np.triu(A) + np.diag(np.diag(A))\n",
    "    \n",
    "    T = np.linalg.inv(D - L) @ U\n",
    "    c = np.linalg.inv(D - L) @ b\n",
    "\n",
    "    xi = x_ini\n",
    "    error = []\n",
    "    for i in range(reps):\n",
    "        xi = T @ xi + c\n",
    "        # error.append(np.linalg.norm(xi - x_direct))\n",
    "    return xi, error"
   ]
  },
  {
   "cell_type": "code",
   "execution_count": null,
   "metadata": {
    "colab": {
     "base_uri": "https://localhost:8080/",
     "height": 966
    },
    "executionInfo": {
     "elapsed": 763,
     "status": "ok",
     "timestamp": 1668112011078,
     "user": {
      "displayName": "Gianfranco Battolla",
      "userId": "06757248181293084636"
     },
     "user_tz": 180
    },
    "id": "dV_L6nfDeAlX",
    "outputId": "3975b527-0ddd-4e7e-d8eb-c471cc948f14"
   },
   "outputs": [
    {
     "name": "stdout",
     "output_type": "stream",
     "text": [
      "[[0.2  0.   0.   0.   0.  ]\n",
      " [0.   0.2  0.   0.   0.  ]\n",
      " [0.   0.   0.2  0.   0.  ]\n",
      " [0.   0.   0.   0.25 0.  ]\n",
      " [0.   0.   0.   0.   0.25]]\n",
      "[[ 0  0  0  0  0]\n",
      " [-5  0  0  0  0]\n",
      " [-5 -5  0  0  0]\n",
      " [-4 -4 -4  0  0]\n",
      " [-4 -4 -4 -3  0]]\n",
      "[[ 0 -5 -5 -4 -4]\n",
      " [ 0  0 -5 -4 -4]\n",
      " [ 0  0  0 -4 -4]\n",
      " [ 0  0  0  0 -3]\n",
      " [ 0  0  0  0  0]]\n",
      "[[ 0.   -1.   -1.   -0.8  -0.8 ]\n",
      " [-1.    0.   -1.   -0.8  -0.8 ]\n",
      " [-1.   -1.    0.   -0.8  -0.8 ]\n",
      " [-1.   -1.   -1.    0.   -0.75]\n",
      " [-1.   -1.   -1.   -0.75  0.  ]]\n",
      "Jacobi Estimacion: [3.5231012e+56 3.5231012e+56 3.5231012e+56 3.6404520e+56 3.6404520e+56]\n",
      "X (directo) [-2.  -0.5  1.   2.5  2. ]\n"
     ]
    },
    {
     "data": {
      "image/png": "[encoded data removed]",
      "text/plain": [
       "<Figure size 432x288 with 1 Axes>"
      ]
     },
     "metadata": {
      "needs_background": "light"
     },
     "output_type": "display_data"
    },
    {
     "data": {
      "image/png": "[encoded data removed]",
      "text/plain": [
       "<Figure size 432x288 with 1 Axes>"
      ]
     },
     "metadata": {
      "needs_background": "light"
     },
     "output_type": "display_data"
    }
   ],
   "source": [
    "# A = np.array([[8,np.sqrt(2),1/3],\n",
    "#               [np.sqrt(3),10, 5.5],\n",
    "#               [0,1 , 7/6]])\n",
    "# b = np.array([5,3.5,2])\n",
    "\n",
    "# x = np.linalg.solve(A,b)\n",
    "\n",
    "A = np.array([[1,1,1,1,1],\n",
    "              [1,1,1,1,1],\n",
    "              [1,1,1,1,1],\n",
    "              [1,1,1,0,1],\n",
    "              [1,1,1,1,0]])\n",
    "\n",
    "b = np.array([5,3.5,2, 1, 1])\n",
    "#x = np.linalg.solve(A,b)\n",
    "\n",
    "x_jacobi, error_jacobi = jacobi(A.T@A, b, 100, [1,4,2, 1, 2])\n",
    "print(\"Jacobi Estimacion:\", x_jacobi)\n",
    "print(\"X (directo)\", x)\n",
    "\n",
    "# x_gauss_seidel, error_gauss_seidel = gauss_seidel(A, b, 100, [1,4,0,1,1], x)\n",
    "# print(\"Gauss Seidel Estimacion:\", x_gauss_seidel)\n",
    "# print(\"X (directo)\", x)\n",
    "\n",
    "plt.plot(error_jacobi)\n",
    "plt.title(\"Error de Jacobi\")\n",
    "plt.xlabel(\"Iteracion\")\n",
    "plt.ylabel(\"error\")\n",
    "plt.yscale('log')\n",
    "plt.show()\n",
    "\n",
    "plt.plot(error_gauss_seidel)\n",
    "plt.title(\"Error de Gauss Seidel\")\n",
    "plt.xlabel(\"Iteracion\")\n",
    "plt.ylabel(\"error\")\n",
    "plt.yscale('log')\n",
    "plt.show()"
   ]
  },
  {
   "cell_type": "markdown",
   "metadata": {
    "id": "zy7mJH0w9Raf"
   },
   "source": [
    "## Ejercicio 4\n",
    "\n",
    "\n",
    "Dado el siguiente sistema lineal sobredeterminado:\n",
    "\n",
    "$$\n",
    "A x = b \\\\\n",
    "\\begin{pmatrix}\n",
    "1  & 0  & 3 \\\\\n",
    "0  & 1  & 1 \\\\\n",
    "1  & -1  & 2 \\\\\n",
    "-1 & 1  & -2 \\\\\n",
    "0  & -1 & -1 \\\\\n",
    "-1 & 0  & -3\n",
    "\\end{pmatrix}\n",
    "%\n",
    "\\begin{pmatrix}\n",
    "x_a \\\\\n",
    "x_b \\\\\n",
    "x_c\n",
    "\\end{pmatrix}\n",
    "=\n",
    "\\begin{pmatrix}\n",
    "1 \\\\ \n",
    "2 \\\\ \n",
    "3 \\\\\n",
    "1 \\\\\n",
    "2 \\\\\n",
    "1\n",
    "\\end{pmatrix}\n",
    "$$\n",
    "\n",
    "- Hallar $x^*$ mediante cuadrados mínimos, utilizando ecuaciones normales. En caso de ser posible, emplear un método iterativo y un método directo para resolverlas. \n"
   ]
  },
  {
   "cell_type": "code",
   "execution_count": 21,
   "metadata": {
    "colab": {
     "base_uri": "https://localhost:8080/",
     "height": 514
    },
    "executionInfo": {
     "elapsed": 235,
     "status": "error",
     "timestamp": 1668202605327,
     "user": {
      "displayName": "Gianfranco Battolla",
      "userId": "06757248181293084636"
     },
     "user_tz": 180
    },
    "id": "pRqgoKuY9ImM",
    "outputId": "a1aa3ea6-e945-43eb-aff7-186bfb2f7d16"
   },
   "outputs": [
    {
     "ename": "LinAlgError",
     "evalue": "ignored",
     "output_type": "error",
     "traceback": [
      "\u001b[0;31m---------------------------------------------------------------------------\u001b[0m",
      "\u001b[0;31mLinAlgError\u001b[0m                               Traceback (most recent call last)",
      "\u001b[0;32m<ipython-input-21-4571641fe0bb>\u001b[0m in \u001b[0;36m<module>\u001b[0;34m\u001b[0m\n\u001b[1;32m     11\u001b[0m \u001b[0;34m\u001b[0m\u001b[0m\n\u001b[1;32m     12\u001b[0m \u001b[0;31m# Pruebo con métodos iterativos:\u001b[0m\u001b[0;34m\u001b[0m\u001b[0;34m\u001b[0m\u001b[0;34m\u001b[0m\u001b[0m\n\u001b[0;32m---> 13\u001b[0;31m \u001b[0mx_jacobi\u001b[0m\u001b[0;34m,\u001b[0m \u001b[0merror_jacobi\u001b[0m \u001b[0;34m=\u001b[0m \u001b[0mjacobi\u001b[0m\u001b[0;34m(\u001b[0m\u001b[0mC\u001b[0m\u001b[0;34m.\u001b[0m\u001b[0mT\u001b[0m\u001b[0;34m@\u001b[0m\u001b[0mC\u001b[0m\u001b[0;34m,\u001b[0m \u001b[0mC\u001b[0m\u001b[0;34m.\u001b[0m\u001b[0mT\u001b[0m\u001b[0;34m@\u001b[0m\u001b[0mb\u001b[0m\u001b[0;34m,\u001b[0m \u001b[0;36m100\u001b[0m\u001b[0;34m,\u001b[0m \u001b[0mnp\u001b[0m\u001b[0;34m.\u001b[0m\u001b[0mrandom\u001b[0m\u001b[0;34m.\u001b[0m\u001b[0mrand\u001b[0m\u001b[0;34m(\u001b[0m\u001b[0;36m5\u001b[0m\u001b[0;34m)\u001b[0m\u001b[0;34m)\u001b[0m\u001b[0;34m\u001b[0m\u001b[0;34m\u001b[0m\u001b[0m\n\u001b[0m\u001b[1;32m     14\u001b[0m \u001b[0mx_gauss_seidel\u001b[0m\u001b[0;34m,\u001b[0m \u001b[0merror_gauss_seidel\u001b[0m \u001b[0;34m=\u001b[0m \u001b[0mgauss_seidel\u001b[0m\u001b[0;34m(\u001b[0m\u001b[0mC\u001b[0m\u001b[0;34m.\u001b[0m\u001b[0mT\u001b[0m\u001b[0;34m@\u001b[0m\u001b[0mC\u001b[0m\u001b[0;34m,\u001b[0m \u001b[0mC\u001b[0m\u001b[0;34m.\u001b[0m\u001b[0mT\u001b[0m\u001b[0;34m@\u001b[0m\u001b[0mb\u001b[0m\u001b[0;34m,\u001b[0m \u001b[0;36m100\u001b[0m\u001b[0;34m,\u001b[0m \u001b[0mnp\u001b[0m\u001b[0;34m.\u001b[0m\u001b[0mrandom\u001b[0m\u001b[0;34m.\u001b[0m\u001b[0mrand\u001b[0m\u001b[0;34m(\u001b[0m\u001b[0;36m5\u001b[0m\u001b[0;34m)\u001b[0m\u001b[0;34m)\u001b[0m\u001b[0;34m\u001b[0m\u001b[0;34m\u001b[0m\u001b[0m\n\u001b[1;32m     15\u001b[0m \u001b[0;34m\u001b[0m\u001b[0m\n",
      "\u001b[0;32m<ipython-input-4-a15d1a21f26f>\u001b[0m in \u001b[0;36mjacobi\u001b[0;34m(A, b, reps, x_ini)\u001b[0m\n\u001b[1;32m      5\u001b[0m     \u001b[0mU\u001b[0m \u001b[0;34m=\u001b[0m \u001b[0;34m-\u001b[0m\u001b[0mnp\u001b[0m\u001b[0;34m.\u001b[0m\u001b[0mtriu\u001b[0m\u001b[0;34m(\u001b[0m\u001b[0mA\u001b[0m\u001b[0;34m)\u001b[0m \u001b[0;34m+\u001b[0m \u001b[0mnp\u001b[0m\u001b[0;34m.\u001b[0m\u001b[0mdiag\u001b[0m\u001b[0;34m(\u001b[0m\u001b[0mnp\u001b[0m\u001b[0;34m.\u001b[0m\u001b[0mdiag\u001b[0m\u001b[0;34m(\u001b[0m\u001b[0mA\u001b[0m\u001b[0;34m)\u001b[0m\u001b[0;34m)\u001b[0m\u001b[0;34m\u001b[0m\u001b[0;34m\u001b[0m\u001b[0m\n\u001b[1;32m      6\u001b[0m \u001b[0;34m\u001b[0m\u001b[0m\n\u001b[0;32m----> 7\u001b[0;31m     \u001b[0mT\u001b[0m \u001b[0;34m=\u001b[0m \u001b[0mnp\u001b[0m\u001b[0;34m.\u001b[0m\u001b[0mlinalg\u001b[0m\u001b[0;34m.\u001b[0m\u001b[0minv\u001b[0m\u001b[0;34m(\u001b[0m\u001b[0mD\u001b[0m\u001b[0;34m)\u001b[0m \u001b[0;34m@\u001b[0m \u001b[0;34m(\u001b[0m\u001b[0mL\u001b[0m \u001b[0;34m+\u001b[0m \u001b[0mU\u001b[0m\u001b[0;34m)\u001b[0m\u001b[0;34m\u001b[0m\u001b[0;34m\u001b[0m\u001b[0m\n\u001b[0m\u001b[1;32m      8\u001b[0m     \u001b[0mc\u001b[0m \u001b[0;34m=\u001b[0m \u001b[0mnp\u001b[0m\u001b[0;34m.\u001b[0m\u001b[0mlinalg\u001b[0m\u001b[0;34m.\u001b[0m\u001b[0minv\u001b[0m\u001b[0;34m(\u001b[0m\u001b[0mD\u001b[0m\u001b[0;34m)\u001b[0m \u001b[0;34m@\u001b[0m \u001b[0mb\u001b[0m\u001b[0;34m\u001b[0m\u001b[0;34m\u001b[0m\u001b[0m\n\u001b[1;32m      9\u001b[0m     \u001b[0mprint\u001b[0m\u001b[0;34m(\u001b[0m\u001b[0mnp\u001b[0m\u001b[0;34m.\u001b[0m\u001b[0mlinalg\u001b[0m\u001b[0;34m.\u001b[0m\u001b[0minv\u001b[0m\u001b[0;34m(\u001b[0m\u001b[0mD\u001b[0m\u001b[0;34m)\u001b[0m\u001b[0;34m)\u001b[0m\u001b[0;34m\u001b[0m\u001b[0;34m\u001b[0m\u001b[0m\n",
      "\u001b[0;32m<__array_function__ internals>\u001b[0m in \u001b[0;36minv\u001b[0;34m(*args, **kwargs)\u001b[0m\n",
      "\u001b[0;32m/usr/local/lib/python3.7/dist-packages/numpy/linalg/linalg.py\u001b[0m in \u001b[0;36minv\u001b[0;34m(a)\u001b[0m\n\u001b[1;32m    543\u001b[0m     \u001b[0msignature\u001b[0m \u001b[0;34m=\u001b[0m \u001b[0;34m'D->D'\u001b[0m \u001b[0;32mif\u001b[0m \u001b[0misComplexType\u001b[0m\u001b[0;34m(\u001b[0m\u001b[0mt\u001b[0m\u001b[0;34m)\u001b[0m \u001b[0;32melse\u001b[0m \u001b[0;34m'd->d'\u001b[0m\u001b[0;34m\u001b[0m\u001b[0;34m\u001b[0m\u001b[0m\n\u001b[1;32m    544\u001b[0m     \u001b[0mextobj\u001b[0m \u001b[0;34m=\u001b[0m \u001b[0mget_linalg_error_extobj\u001b[0m\u001b[0;34m(\u001b[0m\u001b[0m_raise_linalgerror_singular\u001b[0m\u001b[0;34m)\u001b[0m\u001b[0;34m\u001b[0m\u001b[0;34m\u001b[0m\u001b[0m\n\u001b[0;32m--> 545\u001b[0;31m     \u001b[0mainv\u001b[0m \u001b[0;34m=\u001b[0m \u001b[0m_umath_linalg\u001b[0m\u001b[0;34m.\u001b[0m\u001b[0minv\u001b[0m\u001b[0;34m(\u001b[0m\u001b[0ma\u001b[0m\u001b[0;34m,\u001b[0m \u001b[0msignature\u001b[0m\u001b[0;34m=\u001b[0m\u001b[0msignature\u001b[0m\u001b[0;34m,\u001b[0m \u001b[0mextobj\u001b[0m\u001b[0;34m=\u001b[0m\u001b[0mextobj\u001b[0m\u001b[0;34m)\u001b[0m\u001b[0;34m\u001b[0m\u001b[0;34m\u001b[0m\u001b[0m\n\u001b[0m\u001b[1;32m    546\u001b[0m     \u001b[0;32mreturn\u001b[0m \u001b[0mwrap\u001b[0m\u001b[0;34m(\u001b[0m\u001b[0mainv\u001b[0m\u001b[0;34m.\u001b[0m\u001b[0mastype\u001b[0m\u001b[0;34m(\u001b[0m\u001b[0mresult_t\u001b[0m\u001b[0;34m,\u001b[0m \u001b[0mcopy\u001b[0m\u001b[0;34m=\u001b[0m\u001b[0;32mFalse\u001b[0m\u001b[0;34m)\u001b[0m\u001b[0;34m)\u001b[0m\u001b[0;34m\u001b[0m\u001b[0;34m\u001b[0m\u001b[0m\n\u001b[1;32m    547\u001b[0m \u001b[0;34m\u001b[0m\u001b[0m\n",
      "\u001b[0;32m/usr/local/lib/python3.7/dist-packages/numpy/linalg/linalg.py\u001b[0m in \u001b[0;36m_raise_linalgerror_singular\u001b[0;34m(err, flag)\u001b[0m\n\u001b[1;32m     86\u001b[0m \u001b[0;34m\u001b[0m\u001b[0m\n\u001b[1;32m     87\u001b[0m \u001b[0;32mdef\u001b[0m \u001b[0m_raise_linalgerror_singular\u001b[0m\u001b[0;34m(\u001b[0m\u001b[0merr\u001b[0m\u001b[0;34m,\u001b[0m \u001b[0mflag\u001b[0m\u001b[0;34m)\u001b[0m\u001b[0;34m:\u001b[0m\u001b[0;34m\u001b[0m\u001b[0;34m\u001b[0m\u001b[0m\n\u001b[0;32m---> 88\u001b[0;31m     \u001b[0;32mraise\u001b[0m \u001b[0mLinAlgError\u001b[0m\u001b[0;34m(\u001b[0m\u001b[0;34m\"Singular matrix\"\u001b[0m\u001b[0;34m)\u001b[0m\u001b[0;34m\u001b[0m\u001b[0;34m\u001b[0m\u001b[0m\n\u001b[0m\u001b[1;32m     89\u001b[0m \u001b[0;34m\u001b[0m\u001b[0m\n\u001b[1;32m     90\u001b[0m \u001b[0;32mdef\u001b[0m \u001b[0m_raise_linalgerror_nonposdef\u001b[0m\u001b[0;34m(\u001b[0m\u001b[0merr\u001b[0m\u001b[0;34m,\u001b[0m \u001b[0mflag\u001b[0m\u001b[0;34m)\u001b[0m\u001b[0;34m:\u001b[0m\u001b[0;34m\u001b[0m\u001b[0;34m\u001b[0m\u001b[0m\n",
      "\u001b[0;31mLinAlgError\u001b[0m: Singular matrix"
     ]
    }
   ],
   "source": [
    "C = np.array([[0, 1, 1, 1, 0],\n",
    "              [0, 0, 0, 0, 0],\n",
    "              [1, 0, 0, 1, 0],\n",
    "              [1, 1, 1, 0, 0],\n",
    "              [1, 1, 1, 1, 0]])\n",
    "\n",
    "b = np.array([0.218304, 0.0895884, 0.200196, 0.218304, 0.273608])\n",
    "\n",
    "# No se puede hacer de esta manera porque C.T @ C es singular, luego tiene infinitas soluciones.-\n",
    "# x_cml = np.linalg.solve(C.T@C, C.T@b)\n",
    "\n",
    "# Pruebo con métodos iterativos:\n",
    "x_jacobi, error_jacobi = jacobi(C.T@C, C.T@b, 100, np.random.rand(5))\n",
    "x_gauss_seidel, error_gauss_seidel = gauss_seidel(C.T@C, C.T@b, 100, np.random.rand(5))\n",
    "\n",
    "x_jacobi\n",
    "# Verificar que efectivamente x_cml sea solucion\n",
    "# Veo que es ortogonal a la imagen\n",
    "r = b - C@x_jacobi\n",
    "C.T @ r\n",
    "\n",
    "# Usar método de numpy\n"
   ]
  },
  {
   "cell_type": "markdown",
   "metadata": {
    "id": "I3SfLOcKeAls"
   },
   "source": [
    "## Ejercicio 5\n",
    "\n",
    "Considerar los siguientes datos que fueron generados a partir de un polinomio de grado 2:\n",
    "\n",
    "$$p(x) = 4 x + 0.5 x^2 + C$$\n",
    "\n",
    "donde $C$ ruido agregado con distribución normal\n",
    "\n",
    "Los mismos serán los datos a ajustar utilizando cuadrados mínimos lineales."
   ]
  },
  {
   "cell_type": "code",
   "execution_count": null,
   "metadata": {
    "colab": {
     "base_uri": "https://localhost:8080/",
     "height": 281
    },
    "executionInfo": {
     "elapsed": 310,
     "status": "ok",
     "timestamp": 1667004437012,
     "user": {
      "displayName": "Gianfranco Battolla",
      "userId": "06757248181293084636"
     },
     "user_tz": 180
    },
    "id": "ShqL7JVIeAlw",
    "outputId": "ea2febe2-753c-4e72-9ed6-a360b514f5aa"
   },
   "outputs": [
    {
     "data": {
      "image/png": "[encoded data removed]",
      "text/plain": [
       "<Figure size 432x288 with 1 Axes>"
      ]
     },
     "metadata": {
      "needs_background": "light"
     },
     "output_type": "display_data"
    }
   ],
   "source": [
    "import numpy as np\n",
    "import matplotlib.pyplot as plt\n",
    "\n",
    "def p(x):\n",
    "    #implementa la funcion p(x) definida en el enunciado'\n",
    "    #observación: x puede ser escalar o vector, en tal caso \n",
    "    #             'se aplica p a cada x (broadcasting) '\n",
    "    y = 4 * x + 0.5 * x ** 2 + np.random.randn(*x.shape) * 20\n",
    "    return y\n",
    "\n",
    "# Creo valores entre 1 y 40 espaciados 0.1\n",
    "x = np.arange(1, 40, 0.1)\n",
    "y = p(x)\n",
    "\n",
    "plt.plot(x, y, '.')\n",
    "plt.title('Datos a ajustar')\n",
    "plt.show()"
   ]
  },
  {
   "cell_type": "markdown",
   "metadata": {
    "id": "8CRqaoyveAl2"
   },
   "source": [
    "### Propuesta: \n",
    "La idea será ajustar un polinomio $f(x)$ de grado 4 a los datos anteriores. \n",
    "Es decir, considerando la familia de funciones $F = \\{x,x^{2},x^{3},x^{4}\\}$ queremos encontrar una función $f(x) = a_{0}x+a_{1}x^{2}+a_{2}x^{3}+a_{3}x^{4}$, una combinación lineal de ellas, que \"mejor aproxime\", en términos de cuadrados mínimos, a $p(x)$. \n",
    "\n",
    "### Implementación:\n",
    "Para esto, podríamos utilizar cuadrados mínimos a través de ecuaciones normales resueltas por un método directo (_np.linalg.solve_).\n",
    "Recordar que la matriz A de CML tiene la siguiente forma:\n",
    "$$A=\n",
    "\\begin{pmatrix}\n",
    "\\delta_{1}(x_{1}) & \\delta_{2}(x_{1}) & \\ldots  & \\delta_{n}(x_{1}) \\\\\n",
    "\\vdots & \\vdots & \\ldots & \\vdots \\\\\n",
    "\\delta_{1}(x_{m}) & \\delta_{2}(x_{m}) & \\ldots  & \\delta_{n}(x_{m}) \\\\\n",
    "\\end{pmatrix} $$\n",
    "\n",
    "\n",
    "En este caso particular, utilizando la función [np.stack](https://numpy.org/doc/stable/reference/generated/numpy.stack.html) y el vector x creado previamente, buscamos:\n",
    "\n",
    "$$A=\n",
    "\\begin{pmatrix}\n",
    "x_{1} & x_{1}^{2} & x_{1}^{3} & x_{1}^{4} \\\\\n",
    "\\vdots & \\vdots & \\ldots & \\vdots \\\\\n",
    "x_{390} & x_{390}^{2} & x_{390}^{3} & x_{390}^{4} \\\\\n",
    "\\end{pmatrix} $$"
   ]
  },
  {
   "cell_type": "markdown",
   "metadata": {
    "id": "3j-8NiUUeAmB"
   },
   "source": [
    "### Responder:\n",
    "\n",
    "- Encontrar, mediante ecuaciones normales via método directo, $x*$ el vector solución de cuadrados mínimos\n",
    "- Estimar la solución de cuadrados mínimos utilizando los métodos iterativos del punto 3 y graficar los errores de los métodos (con respecto a la solución hallada con el método directo) en función de las iteraciones.\n",
    "- Indicar si los métodos convergen. Justificar adecuadamente.\n",
    "\n"
   ]
  },
  {
   "cell_type": "code",
   "execution_count": null,
   "metadata": {
    "colab": {
     "base_uri": "https://localhost:8080/"
    },
    "executionInfo": {
     "elapsed": 13,
     "status": "ok",
     "timestamp": 1667004507063,
     "user": {
      "displayName": "Gianfranco Battolla",
      "userId": "06757248181293084636"
     },
     "user_tz": 180
    },
    "id": "81wkOv_eeAl5",
    "outputId": "62fb821a-687a-4940-f253-d2ae3ba5f1cd"
   },
   "outputs": [
    {
     "name": "stdout",
     "output_type": "stream",
     "text": [
      "Solucion directa: [ 3.83000006e+00  5.44244341e-01 -2.12243207e-03  2.60177222e-05]\n",
      "(390, 4)\n"
     ]
    }
   ],
   "source": [
    "A = np.stack([x, x ** 2, x ** 3, x ** 4]).T\n",
    "b = y\n",
    "\n",
    "\n",
    "x_direct = np.linalg.solve(A.T@A, A.T@b)\n",
    "print(\"Solucion directa:\", x_direct) \n",
    "print(A.shape)"
   ]
  },
  {
   "cell_type": "code",
   "execution_count": null,
   "metadata": {
    "colab": {
     "base_uri": "https://localhost:8080/",
     "height": 712
    },
    "executionInfo": {
     "elapsed": 978,
     "status": "ok",
     "timestamp": 1667004759136,
     "user": {
      "displayName": "Gianfranco Battolla",
      "userId": "06757248181293084636"
     },
     "user_tz": 180
    },
    "id": "EFeu7HU6eAmD",
    "outputId": "6bd48fb7-0ef9-40ed-e431-64a5d2e77deb"
   },
   "outputs": [
    {
     "name": "stderr",
     "output_type": "stream",
     "text": [
      "/usr/local/lib/python3.7/dist-packages/ipykernel_launcher.py:13: RuntimeWarning: overflow encountered in matmul\n",
      "  del sys.path[0]\n",
      "/usr/local/lib/python3.7/dist-packages/ipykernel_launcher.py:13: RuntimeWarning: invalid value encountered in matmul\n",
      "  del sys.path[0]\n"
     ]
    },
    {
     "name": "stdout",
     "output_type": "stream",
     "text": [
      "Jacobi Estimacion: [nan nan nan nan]\n",
      "X (directo) [ 3.83000006e+00  5.44244341e-01 -2.12243207e-03  2.60177222e-05]\n"
     ]
    },
    {
     "data": {
      "image/png": "[encoded data removed]",
      "text/plain": [
       "<Figure size 432x288 with 1 Axes>"
      ]
     },
     "metadata": {
      "needs_background": "light"
     },
     "output_type": "display_data"
    },
    {
     "name": "stdout",
     "output_type": "stream",
     "text": [
      "Gauss-Seidel Estimacion: [-2.25902530e+03  3.26634156e+02 -1.38712277e+01  1.81125152e-01]\n",
      "X (directo) [ 3.83000006e+00  5.44244341e-01 -2.12243207e-03  2.60177222e-05]\n"
     ]
    },
    {
     "data": {
      "image/png": "[encoded data removed]",
      "text/plain": [
       "<Figure size 432x288 with 1 Axes>"
      ]
     },
     "metadata": {
      "needs_background": "light"
     },
     "output_type": "display_data"
    }
   ],
   "source": [
    "# Jacobi\n",
    "x_ini = np.random.rand(4)\n",
    "reps = 1000\n",
    "x_jacobi, error = jacobi(A.T@A, A.T@b,reps,x_ini,x_direct)\n",
    "\n",
    "print(\"Jacobi Estimacion:\", x_jacobi)\n",
    "print(\"X (directo)\", x_direct)\n",
    "\n",
    "plt.plot(error)\n",
    "plt.title(\"Error de Jacobi\")\n",
    "plt.xlabel(\"Iteracion\")\n",
    "plt.ylabel(\"error\")\n",
    "plt.yscale('log')\n",
    "plt.show()\n",
    "\n",
    "\n",
    "# Gauss-Seidel\n",
    "reps = 1000\n",
    "x_ini = np.random.rand(4)\n",
    "x_gs, error = gauss_seidel(A.T@A, A.T@b,reps,x_ini,x_direct)\n",
    "\n",
    "print(\"Gauss-Seidel Estimacion:\", x_gs)\n",
    "print(\"X (directo)\", x_direct)\n",
    "\n",
    "plt.plot(error)\n",
    "plt.title(\"Error de Gauss-Seidel\")\n",
    "plt.xlabel(\"Iteracion\")\n",
    "plt.ylabel(\"error\")\n",
    "plt.yscale('log')\n",
    "plt.show()"
   ]
  },
  {
   "cell_type": "markdown",
   "metadata": {
    "id": "Sl9gTlsxeAmM"
   },
   "source": [
    "### Ajustando la función\n",
    "\n",
    "Recapitulando, queríamos encontrar con CML los coeficientes para $f(x) = a_{0}x+a_{1}x^{2}+a_{2}x^{3}+a_{3}x^{4}$. \n",
    "\n",
    "Para encontrar la solución, utilizamos ecuaciones normales que resolvimos primero utilizando un método directo y luego uno iterativo. Idealmente, ambas soluciones deberían \"parecerse\".\n",
    "\n",
    "Finalmente, nos interesa ver como se ajusta nuestra función a los datos originales.\n",
    "\n",
    "### Responder: \n",
    "- A partir de lo anterior, fittear la función estimada, f(x) a los datos originales. Mostrar en un gráfico.\n",
    "- ¿Qué puede decirse sobre los valores estimados de los coeficientes de mayor grado?"
   ]
  },
  {
   "cell_type": "code",
   "execution_count": null,
   "metadata": {
    "id": "PesLdGLXNggl"
   },
   "outputs": [],
   "source": [
    "def f(x,coef):\n",
    "    'implementar la funcion f(x) que ajustará a los datos'\n",
    "    'obs: coef es el vector con los coeficientes a_0 ... a_3'\n",
    "    'x puede ser escalar o vector, en tal caso se aplica p a cada x (broadcasting)'\n",
    "    \n",
    "    return "
   ]
  },
  {
   "cell_type": "code",
   "execution_count": null,
   "metadata": {
    "id": "2K3Z7iITNggl"
   },
   "outputs": [],
   "source": [
    "coef = ... \n",
    "y_pred = f(x,coef)\n",
    "\n",
    "plt.plot(x,y, '.') # puntos originales\n",
    "\n",
    "plt.plot(..., 'r') # puntos estimados\n",
    "\n",
    "plt.title(\"Polinomio ajustado\")\n",
    "plt.xlabel(\"x\")\n",
    "plt.ylabel(\"y\");"
   ]
  },
  {
   "cell_type": "markdown",
   "metadata": {
    "id": "GpTewMqzqIfL"
   },
   "source": [
    "### Predicciones\n",
    "Vimos que otra de las aplicaciones de este método es poder predecir la variable dependiente para instancias desconocidas. Para ver esto, podemos tomar otro rango de valores de x y observar como se \"extrapola\""
   ]
  },
  {
   "cell_type": "code",
   "execution_count": null,
   "metadata": {
    "id": "Zi7q2IvuNggm"
   },
   "outputs": [],
   "source": [
    "x_new  = np.concatenate([np.arange(-5, 1, 0.1),[np.nan],np.arange(40, 46, 0.1)])\n",
    "y_pred = f(x_new, coef)\n",
    "\n",
    "# Puntos originales\n",
    "plt.plot(x,y, '.')\n",
    "\n",
    "# Puntos estimados\n",
    "plt.plot(x_new,y_pred, 'r') \n",
    "\n",
    "\n",
    "plt.title(\"Polinomio ajustado\")\n",
    "plt.xlabel(\"x\")\n",
    "plt.ylabel(\"y\");\n"
   ]
  },
  {
   "cell_type": "markdown",
   "metadata": {
    "id": "OVdAbS66eAjv"
   },
   "source": [
    "## Ejercicio 6\n",
    "Dada la siguiente matriz\n",
    "$$\n",
    "A =\n",
    "\\begin{pmatrix}\n",
    "\t1 & \\sqrt{3} & 0 \\\\\n",
    "\t\\sqrt{3} & 4 & \\sqrt{3}/2 \\\\\n",
    "\t0 & \\sqrt{3}/2 & 7/4\n",
    "\\end{pmatrix}\n",
    "$$\n",
    "\n",
    "Hallar $A = U \\Sigma V^t$ la descomposición en valores singulares de $A$ utilizando únicamente la función [eig](https://docs.scipy.org/doc/numpy/reference/generated/numpy.linalg.eig.html) de Numpy para calcular los autovalores y autovectores necesarios.\n",
    "\n",
    "__Sugerencia__: Considerar alguna propiedad de la matriz que pueda resultar de utilidad para simplificar los cálculos. \n"
   ]
  },
  {
   "cell_type": "code",
   "execution_count": null,
   "metadata": {
    "id": "Z8oAs68neAj0"
   },
   "outputs": [],
   "source": [
    "A = np.array([[1,          np.sqrt(3),   0           ],\n",
    "              [np.sqrt(3), 4,            np.sqrt(3)/2],\n",
    "              [0,          np.sqrt(3)/2, 7/4         ]])\n",
    "\n"
   ]
  },
  {
   "cell_type": "code",
   "execution_count": null,
   "metadata": {
    "id": "M6v_M9wweAkF"
   },
   "outputs": [],
   "source": [
    "# COMPLETAR"
   ]
  },
  {
   "cell_type": "code",
   "execution_count": null,
   "metadata": {
    "id": "o4VdCUq2eAkf"
   },
   "outputs": [],
   "source": [
    "A = np.array([[1, 0, 0],\n",
    "              [0, 1, 0],\n",
    "              [0, 0, 1],\n",
    "              [-1,1, 0],\n",
    "              [0,-1, 0],\n",
    "              [-1,0, 1]])\n",
    "\n",
    "b = np.array([1, 2, 3, 1, 2, 1])\n",
    "\n",
    "x = None # COMPLETAR\n",
    "\n",
    "# Prueba con numpy para verificar\n",
    "x_np = np.linalg.lstsq(A, b)[0]\n",
    "\n",
    "np.allclose(x, x_np)\n"
   ]
  }
 ],
 "metadata": {
  "colab": {
   "collapsed_sections": [],
   "provenance": [
    {
     "file_id": "1mAtpc5jthBPKwaoUhgjZUmScrX6x8V5l",
     "timestamp": 1666995107042
    },
    {
     "file_id": "1VAmLJMvtvc5zOPWmQW6Pn-LWrAg-C8fy",
     "timestamp": 1666979987383
    },
    {
     "file_id": "17wSENqT-mhBto0-4xHCOf3RJ9f1Ee6py",
     "timestamp": 1666827534982
    }
   ],
   "toc_visible": true
  },
  "kernelspec": {
   "display_name": "Python 3",
   "language": "python",
   "name": "python3"
  },
  "language_info": {
   "codemirror_mode": {
    "name": "ipython",
    "version": 3
   },
   "file_extension": ".py",
   "mimetype": "text/x-python",
   "name": "python",
   "nbconvert_exporter": "python",
   "pygments_lexer": "ipython3",
   "version": "3.7.4"
  }
 },
 "nbformat": 4,
 "nbformat_minor": 1
}
